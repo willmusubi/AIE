{
 "cells": [
  {
   "cell_type": "markdown",
   "metadata": {
    "id": "RgDepNVhvzIr"
   },
   "source": [
    "# OpenAI Assistants - Building Agentic RAG with the Function Calling, Retrieval, and Code Interpreter Tools\n",
    "\n",
    "Today we'll explore using OpenAI's Python SDK to create, manage, and use the OpenAI Assistant API!"
   ]
  },
  {
   "cell_type": "markdown",
   "metadata": {
    "id": "RNU6b3ymwOWq"
   },
   "source": [
    "## Dependencies\n",
    "\n",
    "We'll start, as we usually do, with some dependiencies and our API key!"
   ]
  },
  {
   "cell_type": "code",
   "execution_count": 116,
   "metadata": {
    "id": "ePayyL6at6LS"
   },
   "outputs": [],
   "source": [
    "!pip install -qU openai"
   ]
  },
  {
   "cell_type": "code",
   "execution_count": 118,
   "metadata": {
    "colab": {
     "base_uri": "https://localhost:8080/"
    },
    "id": "unKr3HZdu-1V",
    "outputId": "610aeddb-5e56-4d75-e399-59054435c2ef"
   },
   "outputs": [
    {
     "name": "stdin",
     "output_type": "stream",
     "text": [
      "OpenAI API Key: ········\n"
     ]
    }
   ],
   "source": [
    "from getpass import getpass\n",
    "import os\n",
    "\n",
    "os.environ[\"OPENAI_API_KEY\"] = getpass(\"OpenAI API Key:\")"
   ]
  },
  {
   "cell_type": "markdown",
   "metadata": {
    "id": "nwNE7N4HwhXH"
   },
   "source": [
    "## Simple Assistant\n",
    "\n",
    "Let's create a simple Assistant to understand more about how the API works to start!"
   ]
  },
  {
   "cell_type": "markdown",
   "metadata": {
    "id": "KKEwbLMFxNKs"
   },
   "source": [
    "### OpenAI Client\n",
    "\n",
    "At the core of the OpenAI Python SDK is the Client!\n",
    "\n",
    "> NOTE: For ease of use, we'll start with the synchronous `OpenAI()`. OpenAI does provide an `AsyncOpenAI()` that you could leverage as well!"
   ]
  },
  {
   "cell_type": "code",
   "execution_count": 119,
   "metadata": {
    "id": "wF-mBZwtuavl"
   },
   "outputs": [],
   "source": [
    "from openai import OpenAI\n",
    "\n",
    "client = OpenAI()"
   ]
  },
  {
   "cell_type": "markdown",
   "metadata": {
    "id": "0aIx4GZ2w_1c"
   },
   "source": [
    "### Creating An Assistant\n",
    "\n",
    "Leveraging what we know about the OpenAI API from previous sessions - we're going to start by simply initializing an Assistant.\n",
    "\n",
    "Before we begin, we need to think about a few customization options we have:\n",
    "\n",
    "- `name` - Straight forward enough, this is what our Assistant's name will be\n",
    "- `instructions` - similar to a system message, but applied at an Assistant level, this is how we can guide the Assistant's tone, behaviour, functionality, and more!\n",
    "- `model` - this will allow us to choose which model we would prefer to use for our Assistant\n",
    "\n",
    "Let's start by setting some instructions for our Assistant.\n",
    "\n"
   ]
  },
  {
   "cell_type": "code",
   "execution_count": 120,
   "metadata": {
    "cellView": "form",
    "id": "Paqd6zWMyMAJ"
   },
   "outputs": [],
   "source": [
    "# @markdown #### 🏗️ Build Activity 🏗️\n",
    "# @markdown Fill out the fields below to add your Assistant's name, instructions, and desired model!\n",
    "\n",
    "name = \"NAME HERE\" # @param {type: \"string\"}\n",
    "instructions = \"INSTRUCTIONS HERE\" # @param {type: \"string\"}\n",
    "model = \"gpt-3.5-turbo\" # @param [\"gpt-3.5-turbo\", \"gpt-4-turbo-preview\", \"gpt-4\"]"
   ]
  },
  {
   "cell_type": "markdown",
   "metadata": {
    "id": "WUeaDsLMzcv-"
   },
   "source": [
    "### Initialize Assistant\n",
    "\n",
    "Now that we have our desired name, instruction, and model - we can initialize our Assistant!"
   ]
  },
  {
   "cell_type": "code",
   "execution_count": 121,
   "metadata": {
    "id": "6-4MgVLbu8rO"
   },
   "outputs": [],
   "source": [
    "assistant = client.beta.assistants.create(\n",
    "    name=name,\n",
    "    instructions=instructions,\n",
    "    model=model,\n",
    ")"
   ]
  },
  {
   "cell_type": "markdown",
   "metadata": {
    "id": "QskO5n5W2X6t"
   },
   "source": [
    "Let's examine our `assistant` object and see what we find!"
   ]
  },
  {
   "cell_type": "code",
   "execution_count": 122,
   "metadata": {
    "colab": {
     "base_uri": "https://localhost:8080/"
    },
    "id": "nkkIC_JP2bG0",
    "outputId": "a1646ea4-dc68-4a3d-f997-c3e7f0fd7abd"
   },
   "outputs": [
    {
     "data": {
      "text/plain": [
       "Assistant(id='asst_RidbG851hukUbQpQ4fOEjvg7', created_at=1713671254, description=None, file_ids=[], instructions='INSTRUCTIONS HERE', metadata={}, model='gpt-3.5-turbo', name='NAME HERE', object='assistant', tools=[], top_p=1.0, temperature=1.0, response_format='auto')"
      ]
     },
     "execution_count": 122,
     "metadata": {},
     "output_type": "execute_result"
    }
   ],
   "source": [
    "assistant"
   ]
  },
  {
   "cell_type": "markdown",
   "metadata": {
    "id": "615NK1Qj2e_Z"
   },
   "source": [
    "There are a number of useful parameters here, but we'll call out a few:\n",
    "\n",
    "- `id` - since we may have multiple Assistant's, knowing which Assistant we're interacting with will help us ensure the desired user experience!\n",
    "- `description` - A natrual language description of our Assistant could help others understand what it's supposed to do!\n",
    "- `file_ids` - if we wanted to use the Retrieval tool, this would let us know what files we had given our Assistant"
   ]
  },
  {
   "cell_type": "markdown",
   "metadata": {
    "id": "-3HhlqtM0AhW"
   },
   "source": [
    "### Creating a Thread\n",
    "\n",
    "Behind the scenes our Assistant is powered by the idea of \"threads\".\n",
    "\n",
    "You can think of threads as individual conversations that interact with the Assistant.\n",
    "\n",
    "Let's create a thread now!"
   ]
  },
  {
   "cell_type": "code",
   "execution_count": 123,
   "metadata": {
    "id": "iFVM39vevT5f"
   },
   "outputs": [],
   "source": [
    "thread = client.beta.threads.create()"
   ]
  },
  {
   "cell_type": "markdown",
   "metadata": {
    "id": "_Y7jelq01PoG"
   },
   "source": [
    "Let's look at our `thread` object."
   ]
  },
  {
   "cell_type": "code",
   "execution_count": 124,
   "metadata": {
    "colab": {
     "base_uri": "https://localhost:8080/"
    },
    "id": "5V8WAKDZ1Uf2",
    "outputId": "4678aaef-3c01-4876-8136-334897074ad7"
   },
   "outputs": [
    {
     "data": {
      "text/plain": [
       "Thread(id='thread_aMgdc8fuBU2Oh9dovNAOvH3u', created_at=1713671255, metadata={}, object='thread')"
      ]
     },
     "execution_count": 124,
     "metadata": {},
     "output_type": "execute_result"
    }
   ],
   "source": [
    "thread"
   ]
  },
  {
   "cell_type": "markdown",
   "metadata": {
    "id": "4k6S_e501V4z"
   },
   "source": [
    "Notice some key attributes:\n",
    "\n",
    "- `id` - since each Thread is like a conversation, we need some way to specify which thread we're dealing with when interacting with them\n",
    "- `tool_resources` - this will become more relevant as we add tools since we'll need a way to verify which tools we have access to when interacting with our Assistant"
   ]
  },
  {
   "cell_type": "markdown",
   "metadata": {
    "id": "P5BvGv1N0c2h"
   },
   "source": [
    "### Adding Messages to Our Thread\n",
    "\n",
    "Now that we have our Thread (or conversation) we can start adding messages to it!\n",
    "\n",
    "Let's add a simple message that asks about how our Assistant is feeling.\n",
    "\n",
    "Notice the parameters we're leveraging:\n",
    "\n",
    "- `thread_id` - since each Thread is like a conversation, we need some way to address a specific conversation. We can use `thread.id` to do this.\n",
    "- `role` - similar to when we used our chat completions endpoint, this parameter specifies who the message is coming from. You can leverage this in the same ways you would through the chat completions endpoint.\n",
    "- `content` - this is where we can place the actual text our Assistant will interact with\n",
    "\n",
    "> NOTE: Feel free to substitute a relevant message based on the Assistant you created"
   ]
  },
  {
   "cell_type": "code",
   "execution_count": 125,
   "metadata": {
    "id": "R7ZNCfGivagg"
   },
   "outputs": [],
   "source": [
    "message = client.beta.threads.messages.create(\n",
    "    thread_id=thread.id,\n",
    "    role=\"user\",\n",
    "    content=f\"How old are you?\"\n",
    ")"
   ]
  },
  {
   "cell_type": "markdown",
   "metadata": {
    "id": "Uc7R3Sr32P0b"
   },
   "source": [
    "Again, let's examine our `message` object!"
   ]
  },
  {
   "cell_type": "code",
   "execution_count": 126,
   "metadata": {
    "colab": {
     "base_uri": "https://localhost:8080/"
    },
    "id": "wMLvyZDA2S_D",
    "outputId": "5076c8e4-0970-44ff-c609-1501a53cfe1c"
   },
   "outputs": [
    {
     "data": {
      "text/plain": [
       "Message(id='msg_ucJXSPuCaeepCMdz1f6eDFfp', assistant_id=None, completed_at=None, content=[TextContentBlock(text=Text(annotations=[], value='How old are you?'), type='text')], created_at=1713671256, file_ids=[], incomplete_at=None, incomplete_details=None, metadata={}, object='thread.message', role='user', run_id=None, status=None, thread_id='thread_aMgdc8fuBU2Oh9dovNAOvH3u')"
      ]
     },
     "execution_count": 126,
     "metadata": {},
     "output_type": "execute_result"
    }
   ],
   "source": [
    "message"
   ]
  },
  {
   "cell_type": "markdown",
   "metadata": {
    "id": "uI3Pctpk29og"
   },
   "source": [
    "### Running Our Thread\n",
    "\n",
    "Now that we have an Assistant, and we've given that Assistant a Thread, and we've added a Message to that Thread - we're ready to run our Assistant!\n",
    "\n",
    "Notice that this process lets us add (potentially) multiple messages to our Assistant. We can leverage that behaviour for few/many-shot examples, and more!"
   ]
  },
  {
   "cell_type": "code",
   "execution_count": 127,
   "metadata": {
    "cellView": "form",
    "id": "VkvsXv5_3cyQ"
   },
   "outputs": [],
   "source": [
    "# @markdown #### 🏗️ Build Activity 🏗️\n",
    "# @markdown We can also override the Assistant's instructions when we run a thread.\n",
    "\n",
    "# @markdown Use one of the [Prompt Principles for Instruction](https://arxiv.org/pdf/2312.16171v1.pdf) to improve the likeliehood of a correct or valuable response from your Assistant.\n",
    "\n",
    "additional_instructions = \"ADDITIONAL INSTRUCTIONS\" # @param {type: \"string\"}"
   ]
  },
  {
   "cell_type": "markdown",
   "metadata": {
    "id": "7CuGbTrL5QEc"
   },
   "source": [
    "Let's run our Thread!"
   ]
  },
  {
   "cell_type": "code",
   "execution_count": 128,
   "metadata": {
    "id": "fpWNl3UVvdW4"
   },
   "outputs": [],
   "source": [
    "run = client.beta.threads.runs.create(\n",
    "  thread_id=thread.id,\n",
    "  assistant_id=assistant.id,\n",
    "  instructions=instructions + \" \" + additional_instructions\n",
    ")"
   ]
  },
  {
   "cell_type": "markdown",
   "metadata": {
    "id": "erMGdU7y6la2"
   },
   "source": [
    "Now that we've run our thread, let's look at the object!"
   ]
  },
  {
   "cell_type": "code",
   "execution_count": 129,
   "metadata": {
    "colab": {
     "base_uri": "https://localhost:8080/"
    },
    "id": "Kz_rfwi869YI",
    "outputId": "9b0df335-c3a9-43a5-f7c0-020e37679c8b"
   },
   "outputs": [
    {
     "data": {
      "text/plain": [
       "Run(id='run_kXOH7S8HGuNZ3T3ZCXIqFNzw', assistant_id='asst_RidbG851hukUbQpQ4fOEjvg7', cancelled_at=None, completed_at=None, created_at=1713671257, expires_at=1713671857, failed_at=None, file_ids=[], incomplete_details=None, instructions='INSTRUCTIONS HERE ADDITIONAL INSTRUCTIONS', last_error=None, max_completion_tokens=None, max_prompt_tokens=None, metadata={}, model='gpt-3.5-turbo', object='thread.run', required_action=None, response_format='auto', started_at=None, status='queued', thread_id='thread_aMgdc8fuBU2Oh9dovNAOvH3u', tool_choice='auto', tools=[], truncation_strategy=TruncationStrategy(type='auto', last_messages=None), usage=None, temperature=1.0, top_p=1.0)"
      ]
     },
     "execution_count": 129,
     "metadata": {},
     "output_type": "execute_result"
    }
   ],
   "source": [
    "run"
   ]
  },
  {
   "cell_type": "markdown",
   "metadata": {
    "id": "-h2SH_347JJb"
   },
   "source": [
    "Notice we have access to a few very powerful parameters in this `run` object.\n",
    "\n",
    "- `completed_at` - this will help us determine when we can expect to retrieve a response\n",
    "- `failed_at` - this can highlight any issues our run ran into\n",
    "- `status` - is another way we can understand how the flow is going"
   ]
  },
  {
   "cell_type": "markdown",
   "metadata": {
    "id": "HVBNagBU7kpx"
   },
   "source": [
    "### Retrieving Our Run\n",
    "\n",
    "Now that we've created our run, let's retrieve it.\n",
    "\n",
    "We're going to wrap this in a simple loop to make sure we're not retrieving it too early."
   ]
  },
  {
   "cell_type": "code",
   "execution_count": 130,
   "metadata": {
    "id": "itz5_otPvfkV"
   },
   "outputs": [],
   "source": [
    "import time\n",
    "\n",
    "while run.status == \"in_progress\" or run.status == \"queued\":\n",
    "  time.sleep(1)\n",
    "  run = client.beta.threads.runs.retrieve(\n",
    "    thread_id=thread.id,\n",
    "    run_id=run.id\n",
    "  )"
   ]
  },
  {
   "cell_type": "code",
   "execution_count": 131,
   "metadata": {
    "colab": {
     "base_uri": "https://localhost:8080/"
    },
    "id": "AgGE1uUJ7z3h",
    "outputId": "174572f2-fcb6-4b5e-9ad0-6a6b9c413f79"
   },
   "outputs": [
    {
     "name": "stdout",
     "output_type": "stream",
     "text": [
      "completed\n"
     ]
    }
   ],
   "source": [
    "print(run.status)"
   ]
  },
  {
   "cell_type": "markdown",
   "metadata": {
    "id": "zHVTS4hD7-fv"
   },
   "source": [
    "Now that our run is completed - we can retieve the messages from our thread!\n",
    "\n",
    "Notice that our run helps us understand how things are going - but it isn't where we're going to find our responses or messages. Those are added on the backend into our thread.\n",
    "\n",
    "This leads to a simple, but important, flow:\n",
    "\n",
    "1. We add messages to a thread.\n",
    "2. We create a run on that thread.\n",
    "3. We wait until the run is finished.\n",
    "4. We check our thread for the new messages."
   ]
  },
  {
   "cell_type": "markdown",
   "metadata": {
    "id": "DGBNpGmh-ZpW"
   },
   "source": [
    "### Checking Our Thread\n",
    "\n",
    "Now we can get a list of messages from our thread!"
   ]
  },
  {
   "cell_type": "code",
   "execution_count": 132,
   "metadata": {
    "id": "Av-OQDUPvhAd"
   },
   "outputs": [],
   "source": [
    "messages = client.beta.threads.messages.list(\n",
    "  thread_id=thread.id\n",
    ")"
   ]
  },
  {
   "cell_type": "code",
   "execution_count": 133,
   "metadata": {
    "colab": {
     "base_uri": "https://localhost:8080/"
    },
    "id": "GM6cZk-GviqX",
    "outputId": "03f1a135-ce62-42e4-9e5e-203c91ffaf83"
   },
   "outputs": [
    {
     "data": {
      "text/plain": [
       "Message(id='msg_TcxDTfKWB2eyrPeUgVRIeeIe', assistant_id='asst_RidbG851hukUbQpQ4fOEjvg7', completed_at=None, content=[TextContentBlock(text=Text(annotations=[], value='I am a chatbot AI and do not have an age in the traditional sense. How can I assist you today?'), type='text')], created_at=1713671258, file_ids=[], incomplete_at=None, incomplete_details=None, metadata={}, object='thread.message', role='assistant', run_id='run_kXOH7S8HGuNZ3T3ZCXIqFNzw', status=None, thread_id='thread_aMgdc8fuBU2Oh9dovNAOvH3u')"
      ]
     },
     "execution_count": 133,
     "metadata": {},
     "output_type": "execute_result"
    }
   ],
   "source": [
    "messages.data[0]"
   ]
  },
  {
   "cell_type": "markdown",
   "metadata": {
    "id": "XgnY16tjCmc6"
   },
   "source": [
    "## Adding Tools\n",
    "\n",
    "Now that we have an understanding of how Assistant works, we can start thinking about adding tools.\n",
    "\n",
    "We'll go through 3 separate tools and explore how we can leverage them!\n",
    "\n",
    "Let's start with the most familiar tool - the Retriever!\n"
   ]
  },
  {
   "cell_type": "markdown",
   "metadata": {
    "id": "Z0NagnlZC8g9"
   },
   "source": [
    "### Creating an Assistant with the Retriever Tool\n",
    "\n",
    "The first thing we'll want to do is create an assistant with the Retriever tool.\n",
    "\n",
    "This is also going to require some data. We'll provided data - but you're very much encouraged to use your own files to explore how the Assistant works for your use case."
   ]
  },
  {
   "cell_type": "markdown",
   "metadata": {
    "id": "HInYwNiQEjQH"
   },
   "source": [
    "#### Collect and Add Data\n",
    "\n",
    "First, we need some data. Second, we need to add the data to our Assistant!\n",
    "\n",
    "Let's start with grabbing some data!"
   ]
  },
  {
   "cell_type": "code",
   "execution_count": 134,
   "metadata": {
    "id": "wvAHBszIEa1Y"
   },
   "outputs": [
    {
     "name": "stdout",
     "output_type": "stream",
     "text": [
      "  % Total    % Received % Xferd  Average Speed   Time    Time     Time  Current\n",
      "                                 Dload  Upload   Total   Spent    Left  Speed\n",
      "100  500k    0  500k    0     0   489k      0 --:--:--  0:00:01 --:--:--  490k\n"
     ]
    }
   ],
   "source": [
    "!curl https://github.com/xiaopangxia/TCM-Ancient-Books/blob/master/000-%E7%A5%9E%E5%86%9C%E6%9C%AC%E8%8D%89%E7%BB%8F.txt -o 本草纲目.html"
   ]
  },
  {
   "cell_type": "markdown",
   "metadata": {
    "id": "x2EpY1w_FQ3m"
   },
   "source": [
    "Now we can upload our file!\n",
    "\n",
    "Pay attention to [this](https://platform.openai.com/docs/assistants/tools/supported-files) documentation to see what kinds of files can be uploaded.\n",
    "\n",
    "> NOTE: Per the OpenAI [docs](https://platform.openai.com/docs/assistants/tools/knowledge-retrieval) The maximum file size is 512 MB and no more than 2,000,000 tokens (computed automatically when you attach a file)"
   ]
  },
  {
   "cell_type": "code",
   "execution_count": 135,
   "metadata": {
    "id": "dpVoe2SMFI6s"
   },
   "outputs": [],
   "source": [
    "file_reference = client.files.create(\n",
    "  file=open(\"本草纲目.html\", \"rb\"),\n",
    "  purpose='assistants'\n",
    ")"
   ]
  },
  {
   "cell_type": "markdown",
   "metadata": {
    "id": "rBQOSGyyF2u5"
   },
   "source": [
    "Let's look at what our `file_reference` contains!"
   ]
  },
  {
   "cell_type": "code",
   "execution_count": 136,
   "metadata": {
    "colab": {
     "base_uri": "https://localhost:8080/"
    },
    "id": "zJrVLkMpFgwf",
    "outputId": "b8e8d01a-faf8-4308-cc49-54c11415e245"
   },
   "outputs": [
    {
     "data": {
      "text/plain": [
       "FileObject(id='file-ONIr6Rvp1U8AaCAlPhDiJqE2', bytes=512860, created_at=1713671262, filename='本草纲目.html', object='file', purpose='assistants', status='processed', status_details=None)"
      ]
     },
     "execution_count": 136,
     "metadata": {},
     "output_type": "execute_result"
    }
   ],
   "source": [
    "file_reference"
   ]
  },
  {
   "cell_type": "markdown",
   "metadata": {
    "id": "Jd4O4dpZF-eH"
   },
   "source": [
    "#### Create and Use Assistant\n",
    "\n",
    "Now that we have our file - we can attach it to an Assistant, and we can give that Assistant the ability to use it for retrieval through the Retrieval tool!\n",
    "\n",
    "> NOTE: Please pay attention to [pricing](https://platform.openai.com/docs/assistants/tools/knowledge-retrieval) and don't forget to delete your files when you're done!"
   ]
  },
  {
   "cell_type": "code",
   "execution_count": 137,
   "metadata": {
    "id": "jfn_MlJqFiEe"
   },
   "outputs": [],
   "source": [
    "assistant = client.beta.assistants.create(\n",
    "  name=name + \"+ Retrieval\",\n",
    "  instructions=instructions,\n",
    "  model=model,\n",
    "  tools=[{\"type\": \"retrieval\"}],\n",
    "  file_ids=[file_reference.id]\n",
    ")"
   ]
  },
  {
   "cell_type": "markdown",
   "metadata": {
    "id": "f0-mmRjQGeUR"
   },
   "source": [
    "Let's try submitting a message to our Assistant and seeing what kind of answer we get!\n",
    "\n",
    "We'll outline the steps needed to do this in full:\n",
    "\n",
    "1. Create an Assistant\n",
    "2. Create a Thread\n",
    "3. Add Messages to that Thread\n",
    "4. Create a Run on that Thread\n",
    "5. Wait for Run to Complete\n",
    "6. Collect Messages from the Thread\n",
    "\n",
    "Let's do that below!"
   ]
  },
  {
   "cell_type": "code",
   "execution_count": 138,
   "metadata": {
    "colab": {
     "base_uri": "https://localhost:8080/"
    },
    "id": "jOKtb9PsGiB1",
    "outputId": "043ecfc0-2277-4b39-ba6b-fdf8a741e70f"
   },
   "outputs": [
    {
     "name": "stdout",
     "output_type": "stream",
     "text": [
      "queued\n",
      "in_progress\n",
      "in_progress\n"
     ]
    }
   ],
   "source": [
    "# Create a Thread\n",
    "thread = client.beta.threads.create()\n",
    "\n",
    "# Add Messages to that Thread\n",
    "message = client.beta.threads.messages.create(\n",
    "    thread_id=thread.id,\n",
    "    role=\"user\",\n",
    "    content=f\"云母有什么作用？什么季节适合服务用？能治疗什么症状？\"\n",
    ")\n",
    "\n",
    "# Create a Run on that Thread\n",
    "run = client.beta.threads.runs.create(\n",
    "  thread_id=thread.id,\n",
    "  assistant_id=assistant.id,\n",
    ")\n",
    "\n",
    "# Wait for Run to Complete\n",
    "while run.status == \"in_progress\" or run.status == \"queued\":\n",
    "  time.sleep(1)\n",
    "  print(run.status)\n",
    "  run = client.beta.threads.runs.retrieve(\n",
    "    thread_id=thread.id,\n",
    "    run_id=run.id\n",
    "  )\n",
    "\n",
    "# Collect Messages from the Thread\n",
    "messages = client.beta.threads.messages.list(\n",
    "  thread_id=thread.id\n",
    ")"
   ]
  },
  {
   "cell_type": "markdown",
   "metadata": {
    "id": "zxJfa-saHbNQ"
   },
   "source": [
    "Let's look at the final result!"
   ]
  },
  {
   "cell_type": "code",
   "execution_count": 139,
   "metadata": {
    "colab": {
     "base_uri": "https://localhost:8080/"
    },
    "id": "19nDqjRgHaNA",
    "outputId": "f4ad3574-2056-4253-d406-f7057ef73dae"
   },
   "outputs": [
    {
     "data": {
      "text/plain": [
       "SyncCursorPage[Message](data=[Message(id='msg_zADSiorHkCLH3WfxxfjNjIzl', assistant_id='asst_3A3EPDa5xgdrXzrGIMfv04Ml', completed_at=None, content=[TextContentBlock(text=Text(annotations=[], value='根据上传的文件，云母是一种常见的药材，具有清热燥湿、外用消肿的功效。关于云母的具体作用和用法，文件中提到：\\n\\n- 云母有利尿的作用，可以在夏秋季节使用。\\n- 云母可以治疗水肿、气胀、惊悸等症状。'), type='text')], created_at=1713671274, file_ids=[], incomplete_at=None, incomplete_details=None, metadata={}, object='thread.message', role='assistant', run_id='run_w6dXO66XWQLH4K3YqOn02eci', status=None, thread_id='thread_knmKEec2YPDsnOFqHtNP7cuK'), Message(id='msg_P7bnpuYM74QGhwQJeqxhiWwU', assistant_id=None, completed_at=None, content=[TextContentBlock(text=Text(annotations=[], value='云母有什么作用？什么季节适合服务用？能治疗什么症状？'), type='text')], created_at=1713671272, file_ids=[], incomplete_at=None, incomplete_details=None, metadata={}, object='thread.message', role='user', run_id=None, status=None, thread_id='thread_knmKEec2YPDsnOFqHtNP7cuK')], object='list', first_id='msg_zADSiorHkCLH3WfxxfjNjIzl', last_id='msg_P7bnpuYM74QGhwQJeqxhiWwU', has_more=False)"
      ]
     },
     "execution_count": 139,
     "metadata": {},
     "output_type": "execute_result"
    }
   ],
   "source": [
    "messages"
   ]
  },
  {
   "cell_type": "markdown",
   "metadata": {
    "id": "5JdzJDvmHyNF"
   },
   "source": [
    "Let's do some clean up to make sure we're not being charged anything extra by deleting our resources."
   ]
  },
  {
   "cell_type": "code",
   "execution_count": 140,
   "metadata": {
    "id": "01EYWyWBHaoC"
   },
   "outputs": [],
   "source": [
    "file_deletion_status = client.beta.assistants.files.delete(\n",
    "  assistant_id=assistant.id,\n",
    "  file_id=file_reference.id\n",
    ")"
   ]
  },
  {
   "cell_type": "markdown",
   "metadata": {
    "id": "Pln9uYoJICno"
   },
   "source": [
    "### Creating an Assistant with the Code Interpreter Tool\n",
    "\n",
    "Now that we've explored the Retrieval Tool - let's try the Code Interpreter tool!\n",
    "\n",
    "The process will be almost exactly the same - but we can explore a different query, and we'll add our file at the Message level!"
   ]
  },
  {
   "cell_type": "code",
   "execution_count": 141,
   "metadata": {
    "id": "IC81y_VtH9lw"
   },
   "outputs": [],
   "source": [
    "assistant = client.beta.assistants.create(\n",
    "  name=name + \"+ Code Interpreter\",\n",
    "  instructions=instructions,\n",
    "  model=model,\n",
    "  tools=[{\"type\": \"code_interpreter\"}],\n",
    "  file_ids=[file_reference.id]\n",
    ")"
   ]
  },
  {
   "cell_type": "markdown",
   "metadata": {
    "id": "UJPHAJCQJbgi"
   },
   "source": [
    "In the following example, we'll also see how we can package the Thread creation with the Message adding step!\n",
    "\n",
    "> NOTE: Files added at the message/thread level will not be available to the Assistant outside of that Thread."
   ]
  },
  {
   "cell_type": "code",
   "execution_count": 142,
   "metadata": {
    "id": "5xVdjH6EJQrr"
   },
   "outputs": [],
   "source": [
    "thread = client.beta.threads.create(\n",
    "  messages=[\n",
    "    {\n",
    "      \"role\": \"user\",\n",
    "      \"content\": \"What kind of file is this?\",\n",
    "      \"file_ids\": [file_reference.id]\n",
    "    }\n",
    "  ]\n",
    ")"
   ]
  },
  {
   "cell_type": "markdown",
   "metadata": {
    "id": "yiIYut_dJ0Cv"
   },
   "source": [
    "> NOTE: Remember that we create runs at the *thread* level - and so don't need the message object to continue."
   ]
  },
  {
   "cell_type": "code",
   "execution_count": 143,
   "metadata": {
    "colab": {
     "base_uri": "https://localhost:8080/"
    },
    "id": "ES8laUe_Jwp_",
    "outputId": "7a9b004f-d824-4cca-f21f-bbbd9a55c4c3"
   },
   "outputs": [
    {
     "name": "stdout",
     "output_type": "stream",
     "text": [
      "queued\n",
      "in_progress\n",
      "in_progress\n",
      "in_progress\n",
      "in_progress\n",
      "in_progress\n",
      "in_progress\n",
      "in_progress\n",
      "in_progress\n",
      "in_progress\n",
      "in_progress\n",
      "in_progress\n",
      "in_progress\n"
     ]
    }
   ],
   "source": [
    "# Create a Run on that Thread\n",
    "run = client.beta.threads.runs.create(\n",
    "  thread_id=thread.id,\n",
    "  assistant_id=assistant.id,\n",
    ")\n",
    "\n",
    "# Wait for Run to Complete\n",
    "while run.status == \"in_progress\" or run.status == \"queued\":\n",
    "  time.sleep(1)\n",
    "  print(run.status)\n",
    "  run = client.beta.threads.runs.retrieve(\n",
    "    thread_id=thread.id,\n",
    "    run_id=run.id\n",
    "  )\n",
    "\n",
    "# Collect Messages from the Thread\n",
    "messages = client.beta.threads.messages.list(\n",
    "  thread_id=thread.id\n",
    ")"
   ]
  },
  {
   "cell_type": "markdown",
   "metadata": {
    "id": "iYPpGJz5KoDf"
   },
   "source": [
    "We can check the specific steps that the Code Interpreter ran to figure out what steps the Assistant took!"
   ]
  },
  {
   "cell_type": "code",
   "execution_count": 144,
   "metadata": {
    "id": "or7iJ492KI2P"
   },
   "outputs": [],
   "source": [
    "run_steps = client.beta.threads.runs.steps.list(\n",
    "  thread_id=thread.id,\n",
    "  run_id=run.id\n",
    ")"
   ]
  },
  {
   "cell_type": "code",
   "execution_count": 145,
   "metadata": {
    "colab": {
     "base_uri": "https://localhost:8080/"
    },
    "id": "DwbzExbmKJ4N",
    "outputId": "da00f537-adda-46ac-9a98-79478751e28f"
   },
   "outputs": [
    {
     "name": "stdout",
     "output_type": "stream",
     "text": [
      "MessageCreationStepDetails(message_creation=MessageCreation(message_id='msg_IUXISOXJIbyoKSJexgb1hxxU'), type='message_creation')\n",
      "ToolCallsStepDetails(tool_calls=[CodeInterpreterToolCall(id='call_Aek2b0d04Zm7CFJsk1y3VRLx', code_interpreter=CodeInterpreter(input=\"# Display the first few bytes of the file to identify its type\\nwith open(file_path, 'rb') as f:\\n    first_few_bytes = f.read(50)\\n\\nfirst_few_bytes\", outputs=[CodeInterpreterOutputLogs(logs='b\\'\\\\n\\\\n\\\\n\\\\n\\\\n\\\\n<!DOCTYPE html>\\\\n<html\\\\n  lang=\"en\"\\\\n  \\\\n  data-\\'', type='logs')]), type='code_interpreter')], type='tool_calls')\n",
      "MessageCreationStepDetails(message_creation=MessageCreation(message_id='msg_RS0fwe2zzkdug56HfBPooyLa'), type='message_creation')\n",
      "ToolCallsStepDetails(tool_calls=[CodeInterpreterToolCall(id='call_Kg0r7uusqvLRmhwxTx7QL1Bh', code_interpreter=CodeInterpreter(input='# Try to infer the file type based on file extension\\nimport os\\n\\nfile_extension = os.path.splitext(file_path)[-1]\\n\\nfile_extension', outputs=[CodeInterpreterOutputLogs(logs=\"''\", type='logs')]), type='code_interpreter')], type='tool_calls')\n",
      "MessageCreationStepDetails(message_creation=MessageCreation(message_id='msg_AOZJBJ4gteuNSfLSOsWmYBYO'), type='message_creation')\n",
      "ToolCallsStepDetails(tool_calls=[CodeInterpreterToolCall(id='call_mq6uCfD5cfjZJitrHJCKVQsz', code_interpreter=CodeInterpreter(input=\"import mimetypes\\n\\n# Check the file type using mimetypes\\nfile_path = '/mnt/data/file-ONIr6Rvp1U8AaCAlPhDiJqE2'\\nfile_mime_type, _ = mimetypes.guess_type(file_path)\\n\\nfile_mime_type\", outputs=[CodeInterpreterOutputLogs(logs='', type='logs')]), type='code_interpreter')], type='tool_calls')\n",
      "MessageCreationStepDetails(message_creation=MessageCreation(message_id='msg_xoUUtQyLw6mr9nx4gqaPrE0t'), type='message_creation')\n",
      "ToolCallsStepDetails(tool_calls=[CodeInterpreterToolCall(id='call_7mxrGKCSqc5uPBDCaFJzgB98', code_interpreter=CodeInterpreter(input=\"import magic\\n\\n# Check the file type of the uploaded file\\nfile_path = '/mnt/data/file-ONIr6Rvp1U8AaCAlPhDiJqE2'\\nfile_type = magic.Magic(mime=True)\\nfile_mime_type = file_type.from_file(file_path)\\n\\nfile_mime_type\", outputs=[CodeInterpreterOutputLogs(logs=\"---------------------------------------------------------------------------\\nModuleNotFoundError                       Traceback (most recent call last)\\nCell In[1], line 1\\n----> 1 import magic\\n      3 # Check the file type of the uploaded file\\n      4 file_path = '/mnt/data/file-ONIr6Rvp1U8AaCAlPhDiJqE2'\\n\\nModuleNotFoundError: No module named 'magic'\\n\", type='logs')]), type='code_interpreter')], type='tool_calls')\n"
     ]
    }
   ],
   "source": [
    "for step in run_steps.data:\n",
    "  print(step.step_details)"
   ]
  },
  {
   "cell_type": "code",
   "execution_count": 146,
   "metadata": {
    "colab": {
     "base_uri": "https://localhost:8080/"
    },
    "id": "cNJeFF6JJ62H",
    "outputId": "d7565eca-5f49-429d-9d4a-220e22d746c9"
   },
   "outputs": [
    {
     "data": {
      "text/plain": [
       "SyncCursorPage[Message](data=[Message(id='msg_IUXISOXJIbyoKSJexgb1hxxU', assistant_id='asst_OHvr0t1NTHUtMCRiLn4NPt0D', completed_at=None, content=[TextContentBlock(text=Text(annotations=[], value='Based on the content, it appears that the file is an HTML file.'), type='text')], created_at=1713671303, file_ids=[], incomplete_at=None, incomplete_details=None, metadata={}, object='thread.message', role='assistant', run_id='run_KVI7JB9mCNtIbY6i1YZGVSto', status=None, thread_id='thread_aMkwpRic2F1IfKKq0qLcAn1o'), Message(id='msg_RS0fwe2zzkdug56HfBPooyLa', assistant_id='asst_OHvr0t1NTHUtMCRiLn4NPt0D', completed_at=None, content=[TextContentBlock(text=Text(annotations=[], value='The file extension could not be extracted from the file path. Let me display the first few bytes of the file to see if we can identify the file type based on the content.'), type='text')], created_at=1713671299, file_ids=[], incomplete_at=None, incomplete_details=None, metadata={}, object='thread.message', role='assistant', run_id='run_KVI7JB9mCNtIbY6i1YZGVSto', status=None, thread_id='thread_aMkwpRic2F1IfKKq0qLcAn1o'), Message(id='msg_AOZJBJ4gteuNSfLSOsWmYBYO', assistant_id='asst_OHvr0t1NTHUtMCRiLn4NPt0D', completed_at=None, content=[TextContentBlock(text=Text(annotations=[], value='The file type could not be determined using the mimetypes module. Let me try another approach to identify the file type.'), type='text')], created_at=1713671297, file_ids=[], incomplete_at=None, incomplete_details=None, metadata={}, object='thread.message', role='assistant', run_id='run_KVI7JB9mCNtIbY6i1YZGVSto', status=None, thread_id='thread_aMkwpRic2F1IfKKq0qLcAn1o'), Message(id='msg_xoUUtQyLw6mr9nx4gqaPrE0t', assistant_id='asst_OHvr0t1NTHUtMCRiLn4NPt0D', completed_at=None, content=[TextContentBlock(text=Text(annotations=[], value='It seems that the magic module is not available in this environment for determining the file type. Let me try using a different method to identify the file type.'), type='text')], created_at=1713671294, file_ids=[], incomplete_at=None, incomplete_details=None, metadata={}, object='thread.message', role='assistant', run_id='run_KVI7JB9mCNtIbY6i1YZGVSto', status=None, thread_id='thread_aMkwpRic2F1IfKKq0qLcAn1o'), Message(id='msg_hBpSAeBzvdQn9U7MmhUKtLiM', assistant_id=None, completed_at=None, content=[TextContentBlock(text=Text(annotations=[], value='What kind of file is this?'), type='text')], created_at=1713671284, file_ids=['file-ONIr6Rvp1U8AaCAlPhDiJqE2'], incomplete_at=None, incomplete_details=None, metadata={}, object='thread.message', role='user', run_id=None, status=None, thread_id='thread_aMkwpRic2F1IfKKq0qLcAn1o')], object='list', first_id='msg_IUXISOXJIbyoKSJexgb1hxxU', last_id='msg_hBpSAeBzvdQn9U7MmhUKtLiM', has_more=False)"
      ]
     },
     "execution_count": 146,
     "metadata": {},
     "output_type": "execute_result"
    }
   ],
   "source": [
    "messages"
   ]
  },
  {
   "cell_type": "code",
   "execution_count": 147,
   "metadata": {
    "id": "JdLC0rsvR5m5"
   },
   "outputs": [],
   "source": [
    "file_deletion_status = client.beta.assistants.files.delete(\n",
    "  assistant_id=assistant.id,\n",
    "  file_id=file_reference.id\n",
    ")"
   ]
  },
  {
   "cell_type": "markdown",
   "metadata": {
    "id": "hi10hON2LQmc"
   },
   "source": [
    "And there you go!\n",
    "\n",
    "We've fit our Assistant with an awesome Code Interpreter that lets our Assistant run code on our provided files!"
   ]
  },
  {
   "cell_type": "markdown",
   "metadata": {
    "id": "EdJxt77oLzu7"
   },
   "source": [
    "### Creating an Assistant with a Function Calling Tool\n",
    "\n",
    "Let's finally create an Assistant that utilizes the Function Calling API.\n",
    "\n",
    "We'll start by creating a function that we wish to be called.\n",
    "\n",
    "We'll utilize DuckDuckGo search to allow our Assistant to have the most up to date information!"
   ]
  },
  {
   "cell_type": "code",
   "execution_count": 148,
   "metadata": {
    "colab": {
     "base_uri": "https://localhost:8080/"
    },
    "id": "n5eKEC2wMMVI",
    "outputId": "8077815f-153d-4e9f-c315-74c12035bde7"
   },
   "outputs": [],
   "source": [
    "!pip install -qU duckduckgo_search"
   ]
  },
  {
   "cell_type": "code",
   "execution_count": 149,
   "metadata": {
    "id": "YPFZ_Uq_LawH"
   },
   "outputs": [],
   "source": [
    "from duckduckgo_search import DDGS\n",
    "\n",
    "def duckduckgo_search(query):\n",
    "  with DDGS() as ddgs:\n",
    "    results = [r for r in ddgs.text(query, max_results=5)]\n",
    "    return \"\\n\".join(result[\"body\"] for result in results)"
   ]
  },
  {
   "cell_type": "markdown",
   "metadata": {
    "id": "D-o1TBFpMSvR"
   },
   "source": [
    "Let's test our function to make sure it behaves as we expect it to."
   ]
  },
  {
   "cell_type": "code",
   "execution_count": 150,
   "metadata": {
    "colab": {
     "base_uri": "https://localhost:8080/",
     "height": 248
    },
    "id": "mCUr9jFCMWBw",
    "outputId": "368ab562-a1f1-4660-d07b-4e597cdc9fac"
   },
   "outputs": [
    {
     "data": {
      "text/plain": [
       "\"Lowry will follow Andrew Ladd and Blake Wheeler to serve as the third captain of the new Winnipeg Jets franchise. - Sep 12, 2023. After a season without a captain, the Winnipeg Jets have named ...\\nLowry has been a part of the Jets organization since June 25, 2011, when he was selected in the third round, 67 th overall, after putting up 37 points in 36 games with the Swift Current Broncos of ...\\nAdam Lowry, who has been a Jet since 2011 when he was drafted 67th overall, is the new captain of the NHL team — its third since relocating to Winnipeg from Atlanta in 2011. Andrew Ladd served ...\\nAdam Lowry was named captain of the Winnipeg Jets on Tuesday. The 30-year-old forward was selected by the Jets in the third round (No. 67) of the 2011 NHL Draft and has played his entire nine ...\\nThe Winnipeg Jets have officially made the decision on which player will wear the captain's 'C' for the 2023-24 season, and hopefully onward. That player is 30-year-old centre Adam Lowry.\""
      ]
     },
     "execution_count": 150,
     "metadata": {},
     "output_type": "execute_result"
    }
   ],
   "source": [
    "duckduckgo_search(\"Who is the current captain of the Winnipeg Jets?\")"
   ]
  },
  {
   "cell_type": "markdown",
   "metadata": {
    "id": "FzE1nxt5Mi80"
   },
   "source": [
    "Now we need to express how our function works in a way that is compatible with the OpenAI Function Calling API.\n",
    "\n",
    "We'll want to provide a `JSON` object that includes what parameters we have, how to call them, and a short natural language description."
   ]
  },
  {
   "cell_type": "code",
   "execution_count": 151,
   "metadata": {
    "id": "8ElrWvBnMY_s"
   },
   "outputs": [],
   "source": [
    "ddg_function = {\n",
    "    \"name\" : \"duckduckgo_search\",\n",
    "    \"description\" : \"Answer non-technical questions. \",\n",
    "    \"parameters\" : {\n",
    "        \"type\" : \"object\",\n",
    "        \"properties\" : {\n",
    "            \"query\" : {\n",
    "                \"type:\" : \"string\",\n",
    "                \"description\" : \"The search query to use. For example: 'Who is the current Goalie of the Colorado Avalance?'\"\n",
    "            }\n",
    "        },\n",
    "        \"required\" : [\"query\"]\n",
    "    }\n",
    "}"
   ]
  },
  {
   "cell_type": "markdown",
   "metadata": {
    "id": "NyRmJgEQVuGs"
   },
   "source": [
    "#### ❓Question\n",
    "\n",
    "Why does the description key-value pair matter?\n",
    "\n",
    "#### Answer\n",
    "1. Clear for developers to read and maintain\n",
    "2. Easier for models to read and execute\n",
    "3. Following the same standard is convenient for automations between different applications"
   ]
  },
  {
   "cell_type": "markdown",
   "metadata": {
    "id": "tir4WySGM0x2"
   },
   "source": [
    "Now when we create our Assistant - we'll want to include the function description as a tool using the following format."
   ]
  },
  {
   "cell_type": "code",
   "execution_count": 152,
   "metadata": {
    "id": "4eFpwi12Mzlg"
   },
   "outputs": [],
   "source": [
    "assistant = client.beta.assistants.create(\n",
    "    name=name + \" + Function Calling API\",\n",
    "    instructions=instructions,\n",
    "    tools=[\n",
    "        {\"type\": \"function\",\n",
    "         \"function\" : ddg_function\n",
    "        }\n",
    "    ],\n",
    "    model=model\n",
    ")"
   ]
  },
  {
   "cell_type": "markdown",
   "metadata": {
    "id": "nJCLvWZzNIXR"
   },
   "source": [
    "We need to make a few modifications to our Assistant to include the ability to make calls to our local function and pass the results back to our Assistant for further generation."
   ]
  },
  {
   "cell_type": "code",
   "execution_count": 153,
   "metadata": {
    "id": "XHRfvGJ_NQnF"
   },
   "outputs": [],
   "source": [
    "import json\n",
    "\n",
    "def wait_for_run_completion(thread_id, run_id):\n",
    "    while True:\n",
    "        time.sleep(1)\n",
    "        run = client.beta.threads.runs.retrieve(thread_id=thread_id, run_id=run_id)\n",
    "        print(f\"Current run status: {run.status}\")\n",
    "        if run.status in ['completed', 'failed', 'requires_action']:\n",
    "            return run\n",
    "\n",
    "def submit_tool_outputs(thread_id, run_id, tools_to_call):\n",
    "    tool_output_array = []\n",
    "    for tool in tools_to_call:\n",
    "        output = None\n",
    "        tool_call_id = tool.id\n",
    "        function_name = tool.function.name\n",
    "        function_args = tool.function.arguments\n",
    "\n",
    "        if function_name == \"duckduckgo_search\":\n",
    "            print(\"Consulting Duck Duck Go...\")\n",
    "            output = duckduckgo_search(query=json.loads(function_args)[\"query\"])\n",
    "\n",
    "        if output:\n",
    "            tool_output_array.append({\"tool_call_id\": tool_call_id, \"output\": output})\n",
    "\n",
    "    print(tool_output_array)\n",
    "\n",
    "    return client.beta.threads.runs.submit_tool_outputs(\n",
    "        thread_id=thread_id,\n",
    "        run_id=run_id,\n",
    "        tool_outputs=tool_output_array\n",
    "    )\n",
    "\n",
    "def print_messages_from_thread(thread_id):\n",
    "    messages = client.beta.threads.messages.list(thread_id=thread_id)\n",
    "    for msg in messages:\n",
    "        print(f\"{msg.role}: {msg.content[0].text.value}\")\n",
    "\n",
    "def use_assistant(query, assistant_id, thread_id=None):\n",
    "  thread = client.beta.threads.create()\n",
    "\n",
    "  message = client.beta.threads.messages.create(\n",
    "      thread_id=thread.id,\n",
    "      role=\"user\",\n",
    "      content=query,\n",
    "  )\n",
    "\n",
    "  print(\"Creating Assistant \")\n",
    "\n",
    "  run = client.beta.threads.runs.create(\n",
    "    thread_id=thread.id,\n",
    "    assistant_id=assistant_id,\n",
    "  )\n",
    "\n",
    "  print(\"Querying OpenAI Assistant Thread.\")\n",
    "\n",
    "  run = wait_for_run_completion(thread.id, run.id)\n",
    "\n",
    "  if run.status == 'requires_action':\n",
    "    run = submit_tool_outputs(thread.id, run.id, run.required_action.submit_tool_outputs.tool_calls)\n",
    "    run = wait_for_run_completion(thread.id, run.id)\n",
    "\n",
    "  print_messages_from_thread(thread.id)\n",
    "\n",
    "  return thread.id"
   ]
  },
  {
   "cell_type": "markdown",
   "metadata": {
    "id": "NoChJ771Uo0B"
   },
   "source": [
    "#### ❓ Question\n",
    "\n",
    "Outline, in simple terms, what the `use_assistant` helper function is doing.\n",
    "\n",
    "#### Answer\n",
    "1. Create Threads.\n",
    "2. Add Messages.\n",
    "3. Run the Assistant on the Thread.\n",
    "4. Wait for the run status and pick up tools to run.\n",
    "5. Wait for status to see further operations need to take.\n",
    "6. Generate logs."
   ]
  },
  {
   "cell_type": "code",
   "execution_count": 154,
   "metadata": {
    "colab": {
     "base_uri": "https://localhost:8080/"
    },
    "id": "d5NR_HYINky8",
    "outputId": "60042cd6-117f-423e-9f75-5ea1d663c602"
   },
   "outputs": [
    {
     "name": "stdout",
     "output_type": "stream",
     "text": [
      "Creating Assistant \n",
      "Querying OpenAI Assistant Thread.\n",
      "Current run status: requires_action\n",
      "Consulting Duck Duck Go...\n",
      "[{'tool_call_id': 'call_9vZ7K2rsGlSoyw78csJlTHZD', 'output': 'Lowry has been a part of the Jets organization since June 25, 2011, when he was selected in the third round, 67 th overall, after putting up 37 points in 36 games with the Swift Current Broncos of ...\\nLowry will follow Andrew Ladd and Blake Wheeler to serve as the third captain of the new Winnipeg Jets franchise. - Sep 12, 2023. After a season without a captain, the Winnipeg Jets have named ...\\nAdam Lowry, who has been a Jet since 2011 when he was drafted 67th overall, is the new captain of the NHL team — its third since relocating to Winnipeg from Atlanta in 2011. Andrew Ladd served ...\\nWinnipeg Jets Captains. Team Names: Winnipeg Jets, Atlanta Thrashers. Seasons: 24 (1999-00 to 2023-24) NHL Playoff Appearances: 7. NHL Championships: 0 (0 Stanley Cup) ... Current Summary/Standings, Current Schedule/Results, Current Leaders, Current Stats. 2023-24, ...\\nWinnipeg played without a captain last season after stripping Blake Wheeler of the title in September. Lowry is entering his 10th season with the Jets, who drafted him in the third round in 2011.'}]\n",
      "Current run status: in_progress\n",
      "Current run status: completed\n",
      "assistant: The current Captain of the Winnipeg Jets is Adam Lowry. He is the third captain of the Winnipeg Jets franchise and has been with the team since he was drafted in 2011.\n",
      "user: Who is the current Captain of the Winnipeg Jets?\n"
     ]
    },
    {
     "data": {
      "text/plain": [
       "'thread_5ADDiDWxHM4LX2h3wiTzRRUy'"
      ]
     },
     "execution_count": 154,
     "metadata": {},
     "output_type": "execute_result"
    }
   ],
   "source": [
    "use_assistant(\"Who is the current Captain of the Winnipeg Jets?\", assistant.id)"
   ]
  },
  {
   "cell_type": "markdown",
   "metadata": {
    "id": "vY51QtkGNvQe"
   },
   "source": [
    "## Wrapping it All Together\n",
    "\n",
    "Now we can create an Assistant with all of the available tools and see how it responds to various queries!"
   ]
  },
  {
   "cell_type": "code",
   "execution_count": 155,
   "metadata": {
    "id": "HaoQSB7CN74T"
   },
   "outputs": [],
   "source": [
    "assistant = client.beta.assistants.create(\n",
    "    name=name + \" + All Tools\",\n",
    "    instructions=instructions,\n",
    "    tools=[\n",
    "        {\"type\": \"code_interpreter\"},\n",
    "        {\"type\": \"retrieval\"},\n",
    "        {\"type\": \"function\", \"function\" : ddg_function}\n",
    "    ],\n",
    "    model=model,\n",
    "    file_ids=[file_reference.id],\n",
    ")"
   ]
  },
  {
   "cell_type": "code",
   "execution_count": 168,
   "metadata": {
    "colab": {
     "base_uri": "https://localhost:8080/"
    },
    "id": "g2GtwoGDPwp2",
    "outputId": "e276723d-54e1-41ff-8b47-ef725caaabb9"
   },
   "outputs": [
    {
     "name": "stdout",
     "output_type": "stream",
     "text": [
      "Creating Assistant \n",
      "Querying OpenAI Assistant Thread.\n",
      "Current run status: in_progress\n",
      "Current run status: in_progress\n",
      "Current run status: completed\n",
      "assistant: The current Captain of the Winnipeg Jets is Blake Wheeler【7:0†source】.\n",
      "user: Who is the current Captain of the Winnipeg Jets?\n"
     ]
    },
    {
     "data": {
      "text/plain": [
       "'thread_3GRdihHsQ1I2IDCzvuCx82d2'"
      ]
     },
     "execution_count": 168,
     "metadata": {},
     "output_type": "execute_result"
    }
   ],
   "source": [
    "use_assistant(\"Who is the current Captain of the Winnipeg Jets?\", assistant.id)"
   ]
  },
  {
   "cell_type": "code",
   "execution_count": 167,
   "metadata": {
    "colab": {
     "base_uri": "https://localhost:8080/"
    },
    "id": "7QjcxpQ5P-HX",
    "outputId": "43f6a9be-ad9b-4177-92bb-6064dbc0d88b"
   },
   "outputs": [
    {
     "name": "stdout",
     "output_type": "stream",
     "text": [
      "Creating Assistant \n",
      "Querying OpenAI Assistant Thread.\n",
      "Current run status: in_progress\n",
      "Current run status: completed\n",
      "assistant: The author of the supplied file is \"本草纲目\"【5†source】.\n",
      "user: Who is the author of the supplied file?\n"
     ]
    },
    {
     "data": {
      "text/plain": [
       "'thread_CCko4i7dNq9nWs97XrUiu2aq'"
      ]
     },
     "execution_count": 167,
     "metadata": {},
     "output_type": "execute_result"
    }
   ],
   "source": [
    "use_assistant(\"Who is the author of the supplied file?\", assistant.id)"
   ]
  },
  {
   "cell_type": "code",
   "execution_count": 173,
   "metadata": {
    "colab": {
     "base_uri": "https://localhost:8080/"
    },
    "id": "kSKL96nvQIUq",
    "outputId": "e054c800-7c54-4601-d972-4b3c5dc1125d"
   },
   "outputs": [
    {
     "name": "stdout",
     "output_type": "stream",
     "text": [
      "Creating Assistant \n",
      "Querying OpenAI Assistant Thread.\n",
      "Current run status: in_progress\n",
      "Current run status: completed\n",
      "assistant: The provided file is 512,860 bytes in size.\n",
      "user: How many bytes is the provided file?\n"
     ]
    },
    {
     "data": {
      "text/plain": [
       "'thread_DpqSS3UUEUuRrHZ3ASVNux4D'"
      ]
     },
     "execution_count": 173,
     "metadata": {},
     "output_type": "execute_result"
    }
   ],
   "source": [
    "use_assistant(\"How many bytes is the provided file?\", assistant.id)"
   ]
  },
  {
   "cell_type": "markdown",
   "metadata": {
    "id": "gm0oYJu7VAjg"
   },
   "source": [
    "#### ❓ Question\n",
    "\n",
    "Notice that our response can go through multiple paths, given that:\n",
    "\n",
    "What is \"deciding\" to use the tool?\n",
    "\n",
    "#### Answer\n",
    "\n",
    "1. Assistant Configurations: which tool is available.\n",
    "2. User Query Analysis: the model will determine with its obejectves.\n",
    "3. New responses from the answer will be the new queries."
   ]
  },
  {
   "cell_type": "markdown",
   "metadata": {
    "id": "FrJWQ4XvZ20K"
   },
   "source": [
    "### Adding JSON Mode for More Agentic Behaviour\n",
    "\n",
    "Finally, we have the ability to select tools - all we need to do now is set up a process to allow us to create some kind of loop and make decisions about whether or not the response is complete or not.\n",
    "\n",
    "We'll leverage the OpenAI completions end-endpoint with JSON mode to let us understand when we've adequately answered our user's question!"
   ]
  },
  {
   "cell_type": "code",
   "execution_count": 159,
   "metadata": {
    "id": "Rzrk8gn2anpe"
   },
   "outputs": [],
   "source": [
    "completed_template = \\\n",
    "\"\"\"\n",
    "Does this response adequately answer the user's query?\n",
    "\n",
    "Please return your response in JSON format - with key: \"completed\" and either True (if completed) or False (if not completed)\n",
    "\n",
    "User Query:\n",
    "{query}\n",
    "\n",
    "Assistant Response:\n",
    "{response}\n",
    "\"\"\"\n",
    "\n",
    "def is_complete(query, response):\n",
    "  completed_response = client.chat.completions.create(\n",
    "      messages=[\n",
    "          {\n",
    "              \"role\": \"user\",\n",
    "              \"content\": completed_template.format(query=query, response=response),\n",
    "          }\n",
    "      ],\n",
    "      model=model,\n",
    "      response_format={\"type\" : \"json_object\"}\n",
    "  )\n",
    "\n",
    "  return completed_response"
   ]
  },
  {
   "cell_type": "code",
   "execution_count": 170,
   "metadata": {
    "colab": {
     "base_uri": "https://localhost:8080/"
    },
    "id": "9kCQrx03brge",
    "outputId": "2e2a716d-718f-4e06-bf80-a58922180441"
   },
   "outputs": [
    {
     "name": "stdout",
     "output_type": "stream",
     "text": [
      "Creating Assistant \n",
      "Querying OpenAI Assistant Thread.\n",
      "Current run status: in_progress\n",
      "Current run status: in_progress\n",
      "Current run status: completed\n",
      "assistant: The size of the provided file is 512,860 bytes.\n",
      "user: How many bytes is the provided file?\n"
     ]
    }
   ],
   "source": [
    "query = \"How many bytes is the provided file?\"\n",
    "\n",
    "thread_id_for_response = use_assistant(query, assistant.id)"
   ]
  },
  {
   "cell_type": "markdown",
   "metadata": {
    "id": "lSJs9oDIgBTK"
   },
   "source": [
    "Now we can observe JSON mode in action!"
   ]
  },
  {
   "cell_type": "code",
   "execution_count": 171,
   "metadata": {
    "id": "MSDsmlDBcYk_"
   },
   "outputs": [],
   "source": [
    "messages = client.beta.threads.messages.list(thread_id=thread_id_for_response)\n",
    "response = messages.data[0].content[0].text.value\n",
    "completed_flag = json.loads(is_complete(query, response).choices[0].message.content)"
   ]
  },
  {
   "cell_type": "code",
   "execution_count": 172,
   "metadata": {
    "colab": {
     "base_uri": "https://localhost:8080/"
    },
    "id": "_-SKB6TWf_Ra",
    "outputId": "e2fdb56c-ca8a-4011-ff25-eb55d8dc5d1f"
   },
   "outputs": [
    {
     "data": {
      "text/plain": [
       "{'completed': True}"
      ]
     },
     "execution_count": 172,
     "metadata": {},
     "output_type": "execute_result"
    }
   ],
   "source": [
    "completed_flag"
   ]
  },
  {
   "cell_type": "markdown",
   "metadata": {
    "id": "bivIAVh0dTwA"
   },
   "source": [
    "## 🚧 BONUS CHALLENGE 🚧:\n",
    "\n",
    "Use the components we've constructed so far to build a loop that lets us continue to query the Assistant if the response is not completed!"
   ]
  },
  {
   "cell_type": "code",
   "execution_count": 181,
   "metadata": {
    "id": "vtWh_h_WfjuS"
   },
   "outputs": [
    {
     "name": "stdout",
     "output_type": "stream",
     "text": [
      "Creating Assistant \n",
      "Querying OpenAI Assistant Thread.\n",
      "Current run status: in_progress\n",
      "Current run status: completed\n",
      "assistant: Of course! I would be happy to help. Could you please provide me with more specific details or context about what you need assistance with? This will help me provide you with the most relevant and accurate information.\n",
      "user: Could you provide more details?\n",
      "Response incomplete, refining the query.\n",
      "Creating Assistant \n",
      "Querying OpenAI Assistant Thread.\n",
      "Current run status: completed\n",
      "assistant: Of course! Can you please specify what you would like more details on? This will help me provide you with the information you need.\n",
      "user: Could you provide more details?\n",
      "Response incomplete, refining the query.\n",
      "Creating Assistant \n",
      "Querying OpenAI Assistant Thread.\n",
      "Current run status: in_progress\n",
      "Current run status: completed\n",
      "assistant: Of course! Can you please specify what you need more details about? This will help me provide you with the specific information you are looking for.\n",
      "user: Could you provide more details?\n",
      "Response incomplete, refining the query.\n"
     ]
    }
   ],
   "source": [
    "### YOUR CODE HERE\n",
    "max_attempts = 3\n",
    "attempts = 0\n",
    "completed_flag = False\n",
    "\n",
    "while attempts < max_attempts and not completed_flag:\n",
    "    thread_id_for_response = use_assistant(query, assistant.id)\n",
    "    messages = client.beta.threads.messages.list(thread_id=thread_id_for_response)\n",
    "    response = messages.data[0].content[0].text.value\n",
    "    completed_flag = json.loads(is_complete(query, response).choices[0].message.content)['completed']\n",
    "\n",
    "    if completed_flag:\n",
    "        print(\"Query completed successfully.\")\n",
    "        break\n",
    "    else:\n",
    "        print(\"Response incomplete, refining the query.\")\n",
    "    attempts +=1\n",
    "\n",
    "if completed_flag:\n",
    "    print(\"Failed to complete the query after maximum attempts.\")\n"
   ]
  },
  {
   "cell_type": "markdown",
   "metadata": {
    "id": "VJjYm6gnfWrS"
   },
   "source": [
    "# Make Sure You Delete Resources\n",
    "\n",
    "Make sure you delete all the resources you created!\n",
    "\n",
    "This function will help you do so!"
   ]
  },
  {
   "cell_type": "code",
   "execution_count": 179,
   "metadata": {
    "id": "62b49AleR6m_"
   },
   "outputs": [],
   "source": [
    "file_deletion_status = client.beta.assistants.files.delete(\n",
    "  assistant_id=assistant.id,\n",
    "  file_id=file_reference.id\n",
    ")"
   ]
  },
  {
   "cell_type": "code",
   "execution_count": null,
   "metadata": {},
   "outputs": [],
   "source": []
  }
 ],
 "metadata": {
  "colab": {
   "provenance": []
  },
  "kernelspec": {
   "display_name": "Python 3 (ipykernel)",
   "language": "python",
   "name": "python3"
  },
  "language_info": {
   "codemirror_mode": {
    "name": "ipython",
    "version": 3
   },
   "file_extension": ".py",
   "mimetype": "text/x-python",
   "name": "python",
   "nbconvert_exporter": "python",
   "pygments_lexer": "ipython3",
   "version": "3.10.4"
  }
 },
 "nbformat": 4,
 "nbformat_minor": 4
}
